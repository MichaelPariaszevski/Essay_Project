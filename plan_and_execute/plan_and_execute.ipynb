{
 "cells": [
  {
   "cell_type": "markdown",
   "metadata": {},
   "source": [
    "Python packages required: \n",
    "langchain \n",
    "langchain-community \n",
    "langchain-experimental\n",
    "duckduckgo-search\n",
    "numexpr"
   ]
  },
  {
   "cell_type": "code",
   "execution_count": 6,
   "metadata": {},
   "outputs": [],
   "source": [
    "from langchain.chains import LLMMathChain \n",
    "from langchain_community.utilities import DuckDuckGoSearchAPIWrapper\n",
    "from langchain_core.tools import Tool\n",
    "from langchain_experimental.plan_and_execute import PlanAndExecute, load_agent_executor, load_chat_planner \n",
    "from langchain_openai import ChatOpenAI, OpenAI\n",
    "from dotenv import load_dotenv, find_dotenv"
   ]
  },
  {
   "cell_type": "code",
   "execution_count": 7,
   "metadata": {},
   "outputs": [
    {
     "data": {
      "text/plain": [
       "True"
      ]
     },
     "execution_count": 7,
     "metadata": {},
     "output_type": "execute_result"
    }
   ],
   "source": [
    "load_dotenv(find_dotenv(), override = True)"
   ]
  },
  {
   "cell_type": "code",
   "execution_count": 11,
   "metadata": {},
   "outputs": [],
   "source": [
    "search = DuckDuckGoSearchAPIWrapper() \n",
    "\n",
    "llm = ChatOpenAI(model = \"gpt-4o-mini\") \n",
    "\n",
    "llm_math_chain = LLMMathChain.from_llm(llm = llm, verbose = True) \n",
    "\n",
    "tools = [\n",
    "    Tool(\n",
    "        name = \"Search\", \n",
    "        func = search.run, \n",
    "        description = \"useful for when you need to answer questions about current events\"\n",
    "        ), \n",
    "    Tool(\n",
    "        name = \"Calculator\", \n",
    "        func = llm_math_chain.run, \n",
    "        description = \"useful for when you need to answer questions about mathematics\"\n",
    "        )\n",
    "    ]"
   ]
  },
  {
   "cell_type": "markdown",
   "metadata": {},
   "source": [
    "Planner, Executor, and Agent"
   ]
  },
  {
   "cell_type": "code",
   "execution_count": 12,
   "metadata": {},
   "outputs": [],
   "source": [
    "model = ChatOpenAI(model_name = \"gpt-4o-mini\", temperature = 0) \n",
    "\n",
    "planner = load_chat_planner(model) \n",
    "\n",
    "executor = load_agent_executor(model, tools, verbose = True) \n",
    "\n",
    "agent = PlanAndExecute(planner = planner, executor = executor)"
   ]
  },
  {
   "cell_type": "code",
   "execution_count": 14,
   "metadata": {},
   "outputs": [
    {
     "name": "stdout",
     "output_type": "stream",
     "text": [
      "\n",
      "\n",
      "\u001b[1m> Entering new AgentExecutor chain...\u001b[0m\n",
      "\u001b[32;1m\u001b[1;3mThought: The previous steps have already identified the current Prime Minister of the UK as Keir Starmer and provided his age. I can summarize this information for the user.\n",
      "\n",
      "Action:\n",
      "```\n",
      "{\n",
      "  \"action\": \"Final Answer\",\n",
      "  \"action_input\": \"As of October 2023, the current Prime Minister of the UK is Keir Starmer, who is 61 years old.\"\n",
      "}\n",
      "```\n",
      "\u001b[0m\n",
      "\n",
      "\u001b[1m> Finished chain.\u001b[0m\n",
      "\n",
      "\n",
      "\u001b[1m> Entering new AgentExecutor chain...\u001b[0m\n",
      "\u001b[32;1m\u001b[1;3mThought: To determine the birthdate of Keir Starmer, I need to find out when he was born. This will allow me to calculate his age as of September 2024.\n",
      "\n",
      "Action:\n",
      "```\n",
      "{\n",
      "  \"action\": \"Search\",\n",
      "  \"action_input\": \"Keir Starmer birthdate\"\n",
      "}\n",
      "```\n",
      "\u001b[0m\n",
      "Observation: \u001b[36;1m\u001b[1;3mKeir Starmer (born September 2, 1962, London, England) is a British politician and barrister (lawyer) who became leader of the Labour Party in 2020. He has served as a member of Parliament for Holborn and St. Pancras since 2015. Starmer became prime minister of the United Kingdom, replacing Rishi Sunak, after a landslide Labour victory in the ... Keir Starmer's wife and children Starmer married his partner Victoria, a lawyer-turned-occupational health worker, in 2007. The couple have two children, a 15-year-old son and a 13-year-old ... Keir qualified as a barrister in 1987 working in private practice before working as a legal advisor to the Northern Ireland Policing Board. He was appointed Queen's Counsel (QC) in 2002. In 2008 ... Keir Starmer was born on September 2, 1962, to parents Josephine Starmer (née Baker) and Rodney Starmer. He's the second of four children. His mum was a nurse and his dad worked as a toolmaker ... Keir Starmer/Tom Baldwin. Sir Keir and Victoria married in 2007. The election result will also mean change for the Starmer family. Sir Keir, now 61, married his wife Victoria in 2007. Her ...\u001b[0m\n",
      "Thought:\u001b[32;1m\u001b[1;3mTo calculate Keir Starmer's age as of September 2024, I need to determine the difference between his birthdate (September 2, 1962) and September 2024.\n",
      "\n",
      "Action:\n",
      "```\n",
      "{\n",
      "  \"action\": \"Calculator\",\n",
      "  \"action_input\": \"2024 - 1962\"\n",
      "}\n",
      "```\n",
      "\n",
      "\u001b[0m\n",
      "\n",
      "\u001b[1m> Entering new LLMMathChain chain...\u001b[0m\n",
      "2024 - 1962\u001b[32;1m\u001b[1;3m```text\n",
      "2024 - 1962\n",
      "```\n",
      "...numexpr.evaluate(\"2024 - 1962\")...\n",
      "\u001b[0m\n",
      "Answer: \u001b[33;1m\u001b[1;3m62\u001b[0m\n",
      "\u001b[1m> Finished chain.\u001b[0m\n",
      "\n",
      "Observation: \u001b[33;1m\u001b[1;3mAnswer: 62\u001b[0m\n",
      "Thought:\u001b[32;1m\u001b[1;3mTo find Keir Starmer's age as of September 2024, I need to account for whether his birthday has occurred by that date. Since his birthday is on September 2, 1962, he will turn 62 on September 2, 2024. Therefore, as of September 2024, he will be 62 years old.\n",
      "\n",
      "Action:\n",
      "```\n",
      "{\n",
      "  \"action\": \"Final Answer\",\n",
      "  \"action_input\": \"As of September 2024, Keir Starmer will be 62 years old.\"\n",
      "}\n",
      "```\n",
      "\u001b[0m\n",
      "\n",
      "\u001b[1m> Finished chain.\u001b[0m\n",
      "\n",
      "\n",
      "\u001b[1m> Entering new AgentExecutor chain...\u001b[0m\n",
      "\u001b[32;1m\u001b[1;3mThought: The previous steps indicate that Keir Starmer is currently 61 years old as of October 2023. To find out his age in September 2024, I need to confirm his birthdate and calculate his age accordingly.\n",
      "\n",
      "Action:\n",
      "```\n",
      "{\n",
      "  \"action\": \"Final Answer\",\n",
      "  \"action_input\": \"As of September 2024, Keir Starmer will be 62 years old.\"\n",
      "}\n",
      "```\n",
      "\u001b[0m\n",
      "\n",
      "\u001b[1m> Finished chain.\u001b[0m\n",
      "\n",
      "\n",
      "\u001b[1m> Entering new AgentExecutor chain...\u001b[0m\n",
      "\u001b[32;1m\u001b[1;3mThought: The previous steps have established that Keir Starmer is the current Prime Minister of the UK as of October 2023 and that he is 61 years old. Additionally, it has been noted that he will be 62 years old in September 2024. I need to summarize this information clearly in response to the user's original question.\n",
      "\n",
      "Action:\n",
      "```\n",
      "{\n",
      "  \"action\": \"Final Answer\",\n",
      "  \"action_input\": \"As of October 2023, the current Prime Minister of the UK is Keir Starmer, who is 61 years old. He will turn 62 in September 2024.\"\n",
      "}\n",
      "```\n",
      "\u001b[0m\n",
      "\n",
      "\u001b[1m> Finished chain.\u001b[0m\n"
     ]
    },
    {
     "data": {
      "text/plain": [
       "'As of October 2023, the current Prime Minister of the UK is Keir Starmer, who is 61 years old. He will turn 62 in September 2024.'"
      ]
     },
     "execution_count": 14,
     "metadata": {},
     "output_type": "execute_result"
    }
   ],
   "source": [
    "agent.run(\"Who is the current prime minister of the UK? What is their current age as of September 2024?\")"
   ]
  }
 ],
 "metadata": {
  "kernelspec": {
   "display_name": "Agent_Fireworks_Project",
   "language": "python",
   "name": "python3"
  },
  "language_info": {
   "codemirror_mode": {
    "name": "ipython",
    "version": 3
   },
   "file_extension": ".py",
   "mimetype": "text/x-python",
   "name": "python",
   "nbconvert_exporter": "python",
   "pygments_lexer": "ipython3",
   "version": "3.9.19"
  }
 },
 "nbformat": 4,
 "nbformat_minor": 2
}
