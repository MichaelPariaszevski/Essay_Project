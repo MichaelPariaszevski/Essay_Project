{
 "cells": [
  {
   "cell_type": "code",
   "execution_count": 1,
   "metadata": {},
   "outputs": [],
   "source": [
    "import asyncio"
   ]
  },
  {
   "cell_type": "code",
   "execution_count": null,
   "metadata": {},
   "outputs": [],
   "source": [
    "# This works in a normal Python file but not \n",
    "# in Jupyter Notebook\n",
    "\n",
    "import asyncio\n",
    "\n",
    "async def fn(): \n",
    "    print(\"This is\") \n",
    "    await asyncio.sleep(1) \n",
    "    print(\"asynchronous programming\") \n",
    "    await asyncio.sleep(1) \n",
    "    print(\"and not multi-threading\")\n",
    "    \n",
    "asyncio.run(fn())"
   ]
  },
  {
   "cell_type": "code",
   "execution_count": 2,
   "metadata": {},
   "outputs": [
    {
     "name": "stdout",
     "output_type": "stream",
     "text": [
      "This is\n",
      "asynchronous programming\n",
      "and not multi-threading\n"
     ]
    }
   ],
   "source": [
    "# Use the await fn() syntax for Jupyter Notebooks\n",
    "# when using asyncio\n",
    "\n",
    "async def fn(): \n",
    "    print(\"This is\") \n",
    "    await asyncio.sleep(1) \n",
    "    print(\"asynchronous programming\") \n",
    "    await asyncio.sleep(1) \n",
    "    print(\"and not multi-threading\")\n",
    "    \n",
    "await fn()"
   ]
  },
  {
   "cell_type": "code",
   "execution_count": 3,
   "metadata": {},
   "outputs": [
    {
     "name": "stdout",
     "output_type": "stream",
     "text": [
      "This is\n",
      "asynchronous programming\n",
      "and not multi-threading\n"
     ]
    }
   ],
   "source": [
    "await fn()"
   ]
  },
  {
   "cell_type": "code",
   "execution_count": 4,
   "metadata": {},
   "outputs": [],
   "source": [
    "async def fn_1():  \n",
    "    print(\"one\") \n",
    "    await asyncio.sleep(1) # Executed first\n",
    "    await fn_2() # Waits for the fn_2() function to finish executing completely \n",
    "    print(\"four\") # Executed fourth\n",
    "    await asyncio.sleep(1) \n",
    "    print(\"five\") # Executed fifth\n",
    "    await asyncio.sleep(1) \n",
    "    \n",
    "async def fn_2(): \n",
    "    await asyncio.sleep(1) \n",
    "    print(\"two\") # Executed second\n",
    "    await asyncio.sleep(1) \n",
    "    print(\"three\") # Executed third"
   ]
  },
  {
   "cell_type": "code",
   "execution_count": 5,
   "metadata": {},
   "outputs": [
    {
     "name": "stdout",
     "output_type": "stream",
     "text": [
      "one\n",
      "two\n",
      "three\n",
      "four\n",
      "five\n"
     ]
    }
   ],
   "source": [
    "await fn_1()"
   ]
  },
  {
   "cell_type": "code",
   "execution_count": 6,
   "metadata": {},
   "outputs": [],
   "source": [
    "async def fn_3(): \n",
    "    task = asyncio.create_task(fn_4()) # Runs the function fn_4() \n",
    "                                       # anytime there is extra/unused time \n",
    "                                       # within the fn_3() function; \n",
    "                                       # For example, in line 9, fn_4() line 14 is run instead\n",
    "                                       # and in line 11, fn_4() line 16 is run instead\n",
    "    print(\"one\") \n",
    "    print(\"four\") \n",
    "    await asyncio.sleep(1) \n",
    "    print(\"five\") \n",
    "    await asyncio.sleep(1) \n",
    "    \n",
    "async def fn_4(): \n",
    "    print(\"two\") \n",
    "    await asyncio.sleep(1) \n",
    "    print(\"three\")"
   ]
  },
  {
   "cell_type": "code",
   "execution_count": 7,
   "metadata": {},
   "outputs": [
    {
     "name": "stdout",
     "output_type": "stream",
     "text": [
      "one\n",
      "four\n",
      "two\n",
      "five\n",
      "three\n"
     ]
    }
   ],
   "source": [
    "await fn_3()"
   ]
  },
  {
   "cell_type": "markdown",
   "metadata": {},
   "source": [
    "### Using asyncio.gather()"
   ]
  },
  {
   "cell_type": "code",
   "execution_count": 14,
   "metadata": {},
   "outputs": [],
   "source": [
    "async def func_1(): \n",
    "    print(\"Function 1 has started...\")\n",
    "    print(\"Sleeping for 2 seconds\")\n",
    "    await asyncio.sleep(2) \n",
    "    print(\"Function 1 has Ended\") \n",
    "    \n",
    "async def func_2(): \n",
    "    print(\"Function 2 has started...\") \n",
    "    print(\"Sleeping for 3 seconds\")\n",
    "    await asyncio.sleep(3) \n",
    "    print(\"Function 2 has ended\")\n",
    "    \n",
    "async def func_3(): \n",
    "    print(\"Function 3 has started...\") \n",
    "    print(\"Sleeping for 1 second\")\n",
    "    await asyncio.sleep(1)\n",
    "    print(\"Function 3 has ended\") \n",
    "    \n",
    "async def main_1(): \n",
    "    L = await asyncio.gather(\n",
    "                             func_1(), \n",
    "                             func_2(), \n",
    "                             func_3()\n",
    "                             )\n",
    "    print(\"Main Function Ended\")"
   ]
  },
  {
   "cell_type": "code",
   "execution_count": 15,
   "metadata": {},
   "outputs": [
    {
     "name": "stdout",
     "output_type": "stream",
     "text": [
      "Function 1 has started...\n",
      "Sleeping for 2 seconds\n",
      "Function 2 has started...\n",
      "Sleeping for 3 seconds\n",
      "Function 3 has started...\n",
      "Sleeping for 1 second\n",
      "Function 3 has ended\n",
      "Function 1 has Ended\n",
      "Function 2 has ended\n",
      "Main Function Ended\n"
     ]
    }
   ],
   "source": [
    "await main_1()"
   ]
  },
  {
   "cell_type": "markdown",
   "metadata": {},
   "source": [
    "![alt text](<Screenshot 2024-09-11 130939.png>)"
   ]
  }
 ],
 "metadata": {
  "kernelspec": {
   "display_name": "AutoGPT_Project",
   "language": "python",
   "name": "python3"
  },
  "language_info": {
   "codemirror_mode": {
    "name": "ipython",
    "version": 3
   },
   "file_extension": ".py",
   "mimetype": "text/x-python",
   "name": "python",
   "nbconvert_exporter": "python",
   "pygments_lexer": "ipython3",
   "version": "3.11.9"
  }
 },
 "nbformat": 4,
 "nbformat_minor": 2
}
