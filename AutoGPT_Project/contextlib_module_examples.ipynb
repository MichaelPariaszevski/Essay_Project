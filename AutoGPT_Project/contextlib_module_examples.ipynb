{
 "cells": [
  {
   "cell_type": "code",
   "execution_count": 2,
   "metadata": {},
   "outputs": [],
   "source": [
    "import contextlib"
   ]
  },
  {
   "cell_type": "markdown",
   "metadata": {},
   "source": [
    "### contextlib.contextmanager decorator"
   ]
  },
  {
   "cell_type": "code",
   "execution_count": 3,
   "metadata": {},
   "outputs": [
    {
     "name": "stdout",
     "output_type": "stream",
     "text": [
      "Setting up the resource\n",
      "Doing something with the resource\n",
      "Cleaning up the resource\n"
     ]
    }
   ],
   "source": [
    "@contextlib.contextmanager \n",
    "def managing_resource(): \n",
    "    print(\"Setting up the resource\")\n",
    "    yield\n",
    "    print(\"Cleaning up the resource\")\n",
    "    \n",
    "with managing_resource() as context_manager: \n",
    "    print(\"Doing something with the resource\")"
   ]
  },
  {
   "cell_type": "markdown",
   "metadata": {},
   "source": [
    "### contextlib.ContextDecorator class"
   ]
  },
  {
   "cell_type": "code",
   "execution_count": 5,
   "metadata": {},
   "outputs": [
    {
     "name": "stdout",
     "output_type": "stream",
     "text": [
      "Setting up the resource\n",
      "Doing something with the resource\n",
      "Cleaning up the resource\n"
     ]
    }
   ],
   "source": [
    "class managing_resource_class(contextlib.ContextDecorator): \n",
    "    def __enter__(self): \n",
    "        print(\"Setting up the resource\") \n",
    "        \n",
    "    def __exit__(self, *exc): # *exc/*args here is necessary (accepts an arbitrary number of arguments)\n",
    "        print(\"Cleaning up the resource\")\n",
    "        \n",
    "@managing_resource_class() \n",
    "def doing_something(): \n",
    "    print(\"Doing something with the resource\") \n",
    "    \n",
    "doing_something()"
   ]
  },
  {
   "cell_type": "markdown",
   "metadata": {},
   "source": [
    "### contextlib.suppress "
   ]
  },
  {
   "cell_type": "code",
   "execution_count": 7,
   "metadata": {},
   "outputs": [],
   "source": [
    "with contextlib.suppress(FileNotFoundError) as error_catcher: \n",
    "    file = open(\"non_existent_file.txt\") # Does not throw an error"
   ]
  },
  {
   "cell_type": "markdown",
   "metadata": {},
   "source": [
    "### contextlib.redirect_stdout"
   ]
  },
  {
   "cell_type": "code",
   "execution_count": 9,
   "metadata": {},
   "outputs": [
    {
     "name": "stdout",
     "output_type": "stream",
     "text": [
      "Hello example\n",
      "\n"
     ]
    }
   ],
   "source": [
    "import io \n",
    "\n",
    "f = io.StringIO() \n",
    "\n",
    "with contextlib.redirect_stdout(f): # Redirects the print statement in the line below to be stored in our object f, io.StringIO()\n",
    "    print(\"Hello example\") \n",
    "    \n",
    "print(f.getvalue())"
   ]
  },
  {
   "cell_type": "markdown",
   "metadata": {},
   "source": [
    "### contextlib.redirect_stderr"
   ]
  },
  {
   "cell_type": "code",
   "execution_count": 10,
   "metadata": {},
   "outputs": [
    {
     "name": "stdout",
     "output_type": "stream",
     "text": [
      "Hello example 2\n"
     ]
    }
   ],
   "source": [
    "import sys \n",
    "\n",
    "e = io.StringIO() \n",
    "\n",
    "with contextlib.redirect_stderr(e): # Redirects the print statement in the line below to be stored in our object e, io.StringIO()\n",
    "    sys.stderr.write(\"Hello example 2\") \n",
    "    \n",
    "print(e.getvalue())"
   ]
  },
  {
   "cell_type": "markdown",
   "metadata": {},
   "source": [
    "### contextlib.ExitStack"
   ]
  },
  {
   "cell_type": "code",
   "execution_count": null,
   "metadata": {},
   "outputs": [],
   "source": [
    "with contextlib.ExitStack() as stack: \n",
    "    file1 = stack.enter_context(open(\"file1.txt\"))\n",
    "    file2 = stack.enter_context(open(\"file2.txt\"))"
   ]
  },
  {
   "cell_type": "markdown",
   "metadata": {},
   "source": [
    "##### This example opens two files. If an exception happens while opening file2, file1 is properly closed thanks to the contextlib.ExitStack."
   ]
  },
  {
   "cell_type": "markdown",
   "metadata": {},
   "source": [
    "### contextib.nullcontext"
   ]
  },
  {
   "cell_type": "code",
   "execution_count": 12,
   "metadata": {},
   "outputs": [
    {
     "name": "stdout",
     "output_type": "stream",
     "text": [
      "Hello example 3\n"
     ]
    }
   ],
   "source": [
    "with contextlib.nullcontext(): \n",
    "    print(\"Hello example 3\")"
   ]
  },
  {
   "cell_type": "markdown",
   "metadata": {},
   "source": [
    "##### In the above example, we enter and exit the null context without doing anything."
   ]
  },
  {
   "cell_type": "code",
   "execution_count": 15,
   "metadata": {},
   "outputs": [
    {
     "name": "stdout",
     "output_type": "stream",
     "text": [
      "Hello, Zenva!\n",
      "\n",
      "Oops, an error!\n"
     ]
    }
   ],
   "source": [
    "g = io.StringIO()\n",
    "h = io.StringIO()\n",
    "\n",
    "with contextlib.redirect_stdout(g), contextlib.redirect_stderr(h):\n",
    "    print(\"Hello, Zenva!\")\n",
    "    sys.stderr.write(\"Oops, an error!\")\n",
    "    \n",
    "print(g.getvalue())  # Prints: Hello, Zenva!\n",
    "print(h.getvalue())  # Prints: Oops, an error!"
   ]
  },
  {
   "cell_type": "markdown",
   "metadata": {},
   "source": [
    "##### We can even nest context managers to manage multiple resources at the same time. Here’s an example that nests the context managers from some of the previous examples."
   ]
  }
 ],
 "metadata": {
  "kernelspec": {
   "display_name": "AutoGPT_Project",
   "language": "python",
   "name": "python3"
  },
  "language_info": {
   "codemirror_mode": {
    "name": "ipython",
    "version": 3
   },
   "file_extension": ".py",
   "mimetype": "text/x-python",
   "name": "python",
   "nbconvert_exporter": "python",
   "pygments_lexer": "ipython3",
   "version": "3.11.9"
  }
 },
 "nbformat": 4,
 "nbformat_minor": 2
}
