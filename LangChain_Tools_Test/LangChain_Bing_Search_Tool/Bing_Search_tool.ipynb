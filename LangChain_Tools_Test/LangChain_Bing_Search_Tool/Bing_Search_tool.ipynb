{
 "cells": [
  {
   "cell_type": "code",
   "execution_count": 1,
   "metadata": {},
   "outputs": [],
   "source": [
    "from dotenv import load_dotenv, find_dotenv \n",
    "from langchain_community.utilities import BingSearchAPIWrapper"
   ]
  },
  {
   "cell_type": "code",
   "execution_count": 2,
   "metadata": {},
   "outputs": [
    {
     "data": {
      "text/plain": [
       "True"
      ]
     },
     "execution_count": 2,
     "metadata": {},
     "output_type": "execute_result"
    }
   ],
   "source": [
    "load_dotenv(find_dotenv(), override = True)"
   ]
  },
  {
   "cell_type": "code",
   "execution_count": 3,
   "metadata": {},
   "outputs": [],
   "source": [
    "search = BingSearchAPIWrapper()"
   ]
  },
  {
   "cell_type": "code",
   "execution_count": 4,
   "metadata": {},
   "outputs": [
    {
     "data": {
      "text/plain": [
       "'The core of extensible programming is defining functions. Python allows mandatory and optional arguments, keyword arguments, and even arbitrary argument lists. More about defining functions in Python 3. Python is a programming language that lets you work quickly and integrate systems more effectively. Learn More. <b>Python</b> is a popular programming language for various purposes. Find the latest version of<b> Python</b> for different operating systems, download release notes, and test development versions. W3Schools offers free online tutorials, references and exercises in all the major languages of the web. Covering popular subjects like HTML, CSS, JavaScript, Python, SQL, Java, and many, many more. The mission of the Python Software Foundation is to promote, protect, and advance the Python programming language, and to support and facilitate the growth of a diverse and international community of Python programmers. Learn more. Become a Member Donate to the PSF. Learn the basic concepts and features of<b> Python,</b> a powerful and easy to learn programming language. The tutorial covers topics such as data structures, modules, classes, exceptions, input and output, and more. Python is a high-level, general-purpose programming language. Its design philosophy emphasizes code readability with the use of significant indentation. [32] Python is dynamically typed and garbage-collected. It supports multiple programming paradigms, including structured (particularly procedural), object-oriented and functional programming. An @ symbol at the beginning of a line is used for class and function decorators: PEP 318: Decorators. Python Decorators - Python Wiki. The most common Python decorators are: @property. @classmethod. @staticmethod. An @ in the middle of a line is probably matrix multiplication: @ as a binary operator. A comprehensive guide to learn<b> Python</b> programming from basics to advanced topics, with examples and exercises. Covers syntax, data types, operators, loops, functions, OOPs, exceptions, packages, collections, databases, and more. Game Development: Python, combined with Pygame, facilitates 2D game development for hobbyists and indie developers. Scientific Computing: Python is a valuable tool in scientific computing, chosen by scientists and researchers for its extensive libraries. Python is pre-installed in most Linux distributions. Learn the basics of<b> Python</b> syntax, types, and operations with this tutorial. See examples of arithmetic, text, and interactive mode with the interpreter.'"
      ]
     },
     "execution_count": 4,
     "metadata": {},
     "output_type": "execute_result"
    }
   ],
   "source": [
    "search.run(\"python\")"
   ]
  },
  {
   "cell_type": "code",
   "execution_count": 5,
   "metadata": {},
   "outputs": [
    {
     "data": {
      "text/plain": [
       "'1. Introduction. Information technologies, particularly artificial intelligence (<b>AI</b>), are revolutionizing modern <b>education</b>. <b>AI</b> algorithms and <b>educational</b> robots are now integral to learning management and training systems, providing support for a wide array of teaching and learning activities (Costa et al., 2017, García et al., 2007).Numerous applications <b>of AI</b> in <b>education</b> (AIED) have emerged. Advances in artificial intelligence (<b>AI</b>) could transform <b>education</b> systems and make them more equitable. It can accelerate the long overdue transformation of <b>education</b> systems towards inclusive learning that will prepare young people to thrive and shape a better future.; At the same time, teachers can use these technologies to enhance their teaching practice and professional experience. Artificial Intelligence (<b>AI</b>) has the potential to address some of the biggest challenges in <b>education</b> today, innovate teaching and learning practices, and accelerate progress towards SDG 4. However, rapid technological developments inevitably bring multiple risks and challenges, which have so far outpaced policy debates and regulatory frameworks. Abstract. Artificial intelligence (<b>AI</b>) is a field of study that combines the applications of machine learning, algorithm productions, and natural language processing. Applications <b>of AI</b> transform the tools of <b>education</b>. <b>AI</b> has a variety of <b>educational</b> applications, such as personalized learning platforms to promote students’ learning ... The full <b>impact</b> <b>of AI</b> in <b>education</b> remains unclear at this juncture, but as all speakers agreed, things are changing, and now is the time to get it right. Watch the full conference: Stanford HAI’s mission is to advance <b>AI</b> research, <b>education</b>, policy and practice to improve the human condition. with <b>AI</b> policy experts to shape the findings and recommendations in this report. Three Reasons to Address <b>AI</b> in <b>Education</b> Now “I strongly believe in the need for stakeholders to understand the cyclical <b>effects</b> <b>of AI</b> and <b>education</b>. By understanding how different activities accrue, we have the ability to support virtuous cycles. Otherwise, we will The use of Artificial Intelligence (<b>AI</b>) in <b>education</b> is transforming various dimensions of the <b>education</b> system, such as instructional practices, assessment strategies, and administrative processes. It also plays an active role in the progression of science <b>education</b>. This systematic review attempts to render an inherent understanding of the evidence-based interaction between <b>AI</b> and science ... 1. Introduction. <b>Educational</b> and academic practices have been exposed to significant and far-reaching technological advancements in recent times no better exemplified by the recent intervention of Artificial Intelligence (Tuomi, 2018).The swift technological research and embedded innovation in machine learning sciences has accelerated the introduction of language generation models (Dwivedi et ... The present discussion examines the transformative <b>impact</b> of Artificial Intelligence (<b>AI</b>) in <b>educational</b> settings, focusing on the necessity for <b>AI</b> literacy, prompt engineering proficiency, and enhanced critical thinking skills. The introduction <b>of AI</b> into <b>education</b> marks a significant departure from conventional teaching methods, offering personalized learning and support for diverse ... Last update:20 April 2023. The transformative power of Artificial Intelligence (<b>AI</b>) cuts across all economic and social sectors, including <b>education</b>. “<b>Education</b> will be profoundly transformed by <b>AI</b>,” says UNESCO Director-General Audrey Azoulay. “Teaching tools, ways of learning, access to knowledge, and teacher training will be ...'"
      ]
     },
     "execution_count": 5,
     "metadata": {},
     "output_type": "execute_result"
    }
   ],
   "source": [
    "search.run(\"the effect of ai in an educational environment\")"
   ]
  },
  {
   "cell_type": "code",
   "execution_count": 6,
   "metadata": {},
   "outputs": [
    {
     "data": {
      "text/plain": [
       "[{'snippet': 'Get Java for desktop applications and start creating Java applications and applets with the Java Development Kit.',\n",
       "  'title': 'Java | Oracle',\n",
       "  'link': 'https://www.java.com/'},\n",
       " {'snippet': 'Download the latest versions of<b> Java</b> SE Platform, including JDK, JRE, GraalVM, and Enterprise Performance Pack. Learn about<b> Java</b> SE Subscription, licensing, and support options.',\n",
       "  'title': 'Java Downloads | Oracle',\n",
       "  'link': 'https://www.oracle.com/java/technologies/downloads/'},\n",
       " {'snippet': 'Example Get your own Java Server. Click on the &quot;Run example&quot; button to see how it works. We recommend reading this tutorial, in the sequence listed in the left menu. Java is an object oriented language and some concepts may be new. Take breaks when needed, and go over the examples as many times as needed.',\n",
       "  'title': 'Java Tutorial - W3Schools',\n",
       "  'link': 'https://www.w3schools.com/java/'},\n",
       " {'snippet': 'Java is a popular, general-purpose, object-oriented language that can run on any platform with a Java virtual machine. Learn about its history, features, applications, and influences from this comprehensive Wikipedia article.',\n",
       "  'title': 'Java (programming language) - Wikipedia',\n",
       "  'link': 'https://en.wikipedia.org/wiki/Java_(programming_language)'},\n",
       " {'snippet': 'Oracle<b> Java</b> is the #1 programming language and development platform for enterprise applications. Learn about the latest<b> Java</b> releases, features, benefits, products, and customer success stories.',\n",
       "  'title': 'Java Software - Oracle',\n",
       "  'link': 'https://www.oracle.com/java/'}]"
      ]
     },
     "execution_count": 6,
     "metadata": {},
     "output_type": "execute_result"
    }
   ],
   "source": [
    "search.results(\"java\", 5)"
   ]
  },
  {
   "cell_type": "markdown",
   "metadata": {},
   "source": [
    "### Bing Search Tool Usage"
   ]
  },
  {
   "cell_type": "code",
   "execution_count": 7,
   "metadata": {},
   "outputs": [],
   "source": [
    "import os  \n",
    "from langchain_community.tools.bing_search import BingSearchResults \n",
    "\n",
    "tool = BingSearchResults(api_wrapper = search) \n",
    "\n",
    "# print(tool)"
   ]
  },
  {
   "cell_type": "code",
   "execution_count": 8,
   "metadata": {},
   "outputs": [],
   "source": [
    "import json\n",
    "\n",
    "response = tool.invoke(\"What is the current weather in Shanghai?\") \n",
    "response = json.loads(response.replace(\"'\", '\"'))"
   ]
  },
  {
   "cell_type": "code",
   "execution_count": 9,
   "metadata": {},
   "outputs": [
    {
     "name": "stdout",
     "output_type": "stream",
     "text": [
      "{'snippet': 'World Asia China <b>Shanghai</b> <b>Shanghai</b>. <b>Shanghai</b>, <b>Shanghai</b>, China <b>Weather</b> Forecast, with <b>current</b> conditions, wind, air quality, and what to expect for the next 3 days.', 'title': 'Shanghai, Shanghai, China Weather Forecast | AccuWeather', 'link': 'https://www.accuweather.com/en/cn/shanghai/106577/weather-forecast/106577'}\n",
      "{'snippet': '<b>Current weather</b> <b>in Shanghai</b>, <b>Shanghai</b>, China. Check <b>current</b> conditions <b>in Shanghai</b>, <b>Shanghai</b>, China with radar, hourly, and more.', 'title': 'Shanghai, Shanghai, China Current Weather | AccuWeather', 'link': 'https://www.accuweather.com/en/cn/shanghai/106577/current-weather/106577'}\n",
      "{'snippet': '<b>Current</b> <b>weather</b> <b>in Shanghai</b> and forecast for today, tomorrow, and next 14 days', 'title': 'Weather in Shanghai, Shanghai Municipality, China - timeanddate.com', 'link': 'https://www.timeanddate.com/weather/china/shanghai'}\n",
      "{'snippet': 'Observed at 11:00, Saturday 14 September <b>BBC Weather</b> in association with MeteoGroup, external All times are China Standard Time (Asia/<b>Shanghai</b>, GMT+8) unless otherwise stated ...', 'title': 'Shanghai - BBC Weather', 'link': 'https://www.bbc.com/weather/1796236'}\n"
     ]
    }
   ],
   "source": [
    "for item in response: \n",
    "    print(item)"
   ]
  },
  {
   "cell_type": "markdown",
   "metadata": {},
   "source": [
    "### Using Bing Search in LangChain Chains"
   ]
  },
  {
   "cell_type": "code",
   "execution_count": 10,
   "metadata": {},
   "outputs": [
    {
     "name": "stderr",
     "output_type": "stream",
     "text": [
      "/home/mpariaszevski/anaconda3/envs/AutoGPT_Project/lib/python3.11/site-packages/langsmith/client.py:322: LangSmithMissingAPIKeyWarning: API key must be provided when using hosted LangSmith API\n",
      "  warnings.warn(\n",
      "/home/mpariaszevski/anaconda3/envs/AutoGPT_Project/lib/python3.11/site-packages/langsmith/client.py:5301: LangChainBetaWarning: The function `loads` is in beta. It is actively being worked on, so the API may change.\n",
      "  prompt = loads(json.dumps(prompt_object.manifest))\n"
     ]
    }
   ],
   "source": [
    "from langchain import hub \n",
    "from langchain.agents import AgentExecutor, create_tool_calling_agent \n",
    "from langchain_openai import ChatOpenAI \n",
    "\n",
    "instructions = \"\"\"You are an assistant.\"\"\" \n",
    "\n",
    "base_prompt = hub.pull(\"langchain-ai/openai-functions-template\") \n",
    "\n",
    "prompt = base_prompt.partial(instructions = instructions) \n",
    "\n",
    "llm = ChatOpenAI(model_name = \"gpt-4o-mini\", temperature = 0) \n",
    "\n",
    "tool = BingSearchResults(api_wrapper = search) \n",
    "\n",
    "tools = [tool] \n",
    "\n",
    "agent = create_tool_calling_agent(llm = llm, tools = tools, prompt = prompt) \n",
    "\n",
    "agent_executor = AgentExecutor(\n",
    "    agent = agent, \n",
    "    tools = tools, \n",
    "    verbose = True\n",
    ")"
   ]
  },
  {
   "cell_type": "code",
   "execution_count": 11,
   "metadata": {},
   "outputs": [
    {
     "name": "stderr",
     "output_type": "stream",
     "text": [
      "Error in StdOutCallbackHandler.on_chain_start callback: AttributeError(\"'NoneType' object has no attribute 'get'\")\n"
     ]
    },
    {
     "name": "stdout",
     "output_type": "stream",
     "text": [
      "\u001b[32;1m\u001b[1;3m\n",
      "Invoking: `bing_search_results_json` with `{'query': 'current weather in Shanghai'}`\n",
      "\n",
      "\n",
      "\u001b[0m\u001b[36;1m\u001b[1;3m[{'snippet': 'World Asia China <b>Shanghai</b> <b>Shanghai</b>. <b>Shanghai</b>, <b>Shanghai</b>, China <b>Weather</b> Forecast, with current conditions, wind, air quality, and what to expect for the next 3 days.', 'title': 'Shanghai, Shanghai, China Weather Forecast | AccuWeather', 'link': 'https://www.accuweather.com/en/cn/shanghai/106577/weather-forecast/106577'}, {'snippet': 'Current <b>weather in Shanghai</b>, <b>Shanghai</b>, China. Check current conditions <b>in Shanghai</b>, <b>Shanghai</b>, China with radar, hourly, and more.', 'title': 'Shanghai, Shanghai, China Current Weather | AccuWeather', 'link': 'https://www.accuweather.com/en/cn/shanghai/106577/current-weather/106577'}, {'snippet': 'Current <b>weather in Shanghai</b> and forecast for today, tomorrow, and next 14 days', 'title': 'Weather in Shanghai, Shanghai Municipality, China - timeanddate.com', 'link': 'https://www.timeanddate.com/weather/china/shanghai'}, {'snippet': 'Observed at 11:00, Saturday 14 September <b>BBC Weather</b> in association with MeteoGroup, external All times are China Standard Time (Asia/<b>Shanghai</b>, GMT+8) unless otherwise stated ...', 'title': 'Shanghai - BBC Weather', 'link': 'https://www.bbc.com/weather/1796236'}]\u001b[0m\u001b[32;1m\u001b[1;3mThe current weather in Shanghai can be checked through the following sources:\n",
      "\n",
      "1. [AccuWeather - Current Weather in Shanghai](https://www.accuweather.com/en/cn/shanghai/106577/current-weather/106577)\n",
      "2. [Time and Date - Weather in Shanghai](https://www.timeanddate.com/weather/china/shanghai)\n",
      "3. [BBC Weather - Shanghai](https://www.bbc.com/weather/1796236)\n",
      "\n",
      "You can visit these links for the most up-to-date weather information.\u001b[0m\n",
      "\n",
      "\u001b[1m> Finished chain.\u001b[0m\n"
     ]
    },
    {
     "data": {
      "text/plain": [
       "{'input': 'What is the current weather in Shanghai?',\n",
       " 'output': 'The current weather in Shanghai can be checked through the following sources:\\n\\n1. [AccuWeather - Current Weather in Shanghai](https://www.accuweather.com/en/cn/shanghai/106577/current-weather/106577)\\n2. [Time and Date - Weather in Shanghai](https://www.timeanddate.com/weather/china/shanghai)\\n3. [BBC Weather - Shanghai](https://www.bbc.com/weather/1796236)\\n\\nYou can visit these links for the most up-to-date weather information.'}"
      ]
     },
     "execution_count": 11,
     "metadata": {},
     "output_type": "execute_result"
    }
   ],
   "source": [
    "agent_executor.invoke({\"input\": \"What is the current weather in Shanghai?\"})"
   ]
  }
 ],
 "metadata": {
  "kernelspec": {
   "display_name": "AutoGPT_Project",
   "language": "python",
   "name": "python3"
  },
  "language_info": {
   "codemirror_mode": {
    "name": "ipython",
    "version": 3
   },
   "file_extension": ".py",
   "mimetype": "text/x-python",
   "name": "python",
   "nbconvert_exporter": "python",
   "pygments_lexer": "ipython3",
   "version": "3.11.9"
  }
 },
 "nbformat": 4,
 "nbformat_minor": 2
}
