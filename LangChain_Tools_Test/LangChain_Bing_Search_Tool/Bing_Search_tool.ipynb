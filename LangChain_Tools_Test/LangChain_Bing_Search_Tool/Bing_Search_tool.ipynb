{
 "cells": [
  {
   "cell_type": "code",
   "execution_count": 1,
   "metadata": {},
   "outputs": [],
   "source": [
    "from dotenv import load_dotenv, find_dotenv \n",
    "from langchain_community.utilities import BingSearchAPIWrapper"
   ]
  },
  {
   "cell_type": "code",
   "execution_count": 2,
   "metadata": {},
   "outputs": [
    {
     "data": {
      "text/plain": [
       "True"
      ]
     },
     "execution_count": 2,
     "metadata": {},
     "output_type": "execute_result"
    }
   ],
   "source": [
    "load_dotenv(find_dotenv(), override = True)"
   ]
  },
  {
   "cell_type": "code",
   "execution_count": 3,
   "metadata": {},
   "outputs": [],
   "source": [
    "search = BingSearchAPIWrapper()"
   ]
  },
  {
   "cell_type": "code",
   "execution_count": 5,
   "metadata": {},
   "outputs": [
    {
     "data": {
      "text/plain": [
       "'The mission of the Python Software Foundation is to promote, protect, and advance the Python programming language, and to support and facilitate the growth of a diverse and international community of Python programmers. Learn more. Become a Member Donate to the PSF. The official home of the Python Programming Language. <b>Python</b> is a popular programming language for various purposes. Find the latest version of<b> Python</b> for different operating systems, download release notes, and test development versions. W3Schools offers free online tutorials, references and exercises in all the major languages of the web. Covering popular subjects like HTML, CSS, JavaScript, Python, SQL, Java, and many, many more. Learn the basic concepts and features of<b> Python,</b> a powerful and easy to learn programming language. The tutorial covers topics such as data structures, modules, classes, exceptions, input and output, and more. Python is a high-level, general-purpose programming language. Its design philosophy emphasizes code readability with the use of significant indentation. [32] Python is dynamically typed and garbage-collected. It supports multiple programming paradigms, including structured (particularly procedural), object-oriented and functional programming. Python Tutorials → In-depth articles and video courses Learning Paths → Guided study plans for accelerated learning Quizzes → Check your learning progress Browse Topics → Focus on a specific area or skill level Community Chat → Learn with other Pythonistas Office Hours → Live Q&amp;A calls with Python experts Podcast → Hear what’s new in the world of Python Books → Learn how to install, use, and extend<b> Python</b> 3.12.4, a popular programming language. Find tutorials, reference, HOWTOs, FAQs, and more. Python Basics Book. 19 Resources ⋅ Skills: Python 3 Fundamentals, Real-World Projects. Python Basics is for people who want to learn Python programming—whether you are a complete beginner to programming, or a developer with experience in another language. Sep 04, 2024 basics python. Sep 04, 2024 basics python. The mission of the Python Software Foundation is to promote, protect, and advance the Python programming language, and to support and facilitate the growth of a diverse and international community of Python programmers. Learn more. Become a Member Donate to the PSF. A comprehensive guide to learn<b> Python</b> programming from basics to advanced topics, with examples and exercises. Covers syntax, data types, operators, loops, functions, OOPs, exceptions, packages, collections, databases, and more.'"
      ]
     },
     "execution_count": 5,
     "metadata": {},
     "output_type": "execute_result"
    }
   ],
   "source": [
    "search.run(\"python\")"
   ]
  },
  {
   "cell_type": "code",
   "execution_count": 6,
   "metadata": {},
   "outputs": [
    {
     "data": {
      "text/plain": [
       "'Advances in artificial intelligence (<b>AI</b>) could transform <b>education</b> systems and make them more equitable. It can accelerate the long overdue transformation of <b>education</b> systems towards inclusive learning that will prepare young people to thrive and shape a better future.; At the same time, teachers can use these technologies to enhance their teaching practice and professional experience. 1. Introduction. Information technologies, particularly artificial intelligence (<b>AI</b>), are revolutionizing modern <b>education</b>. <b>AI</b> algorithms and <b>educational</b> robots are now integral to learning management and training systems, providing support for a wide array of teaching and learning activities (Costa et al., 2017, García et al., 2007).Numerous applications <b>of AI</b> in <b>education</b> (AIED) have emerged. Artificial Intelligence (<b>AI</b>) has the potential to address some of the biggest challenges in <b>education</b> today, innovate teaching and learning practices, and accelerate progress towards SDG 4. However, rapid technological developments inevitably bring multiple risks and challenges, which have so far outpaced policy debates and regulatory frameworks. The full <b>impact</b> <b>of AI</b> in <b>education</b> remains unclear at this juncture, but as all speakers agreed, things are changing, and now is the time to get it right. Watch the full conference: Stanford HAI’s mission is to advance <b>AI</b> research, <b>education</b>, policy and practice to improve the human condition. The use of Artificial Intelligence (<b>AI</b>) in <b>education</b> is transforming various dimensions of the <b>education</b> system, such as instructional practices, assessment strategies, and administrative processes. It also plays an active role in the progression of science <b>education</b>. This systematic review attempts to render an inherent understanding of the evidence-based interaction between <b>AI</b> and science ... 1. Introduction. <b>Educational</b> and academic practices have been exposed to significant and far-reaching technological advancements in recent times no better exemplified by the recent intervention of Artificial Intelligence (Tuomi, 2018).The swift technological research and embedded innovation in machine learning sciences has accelerated the introduction of language generation models (Dwivedi et ... <b>AI</b> presents an avenue through which students can improve digital literacy, critical thinking, problem-solving and creativity, preparing learners for future job demands. Integrating <b>AI</b> into <b>education</b>, through traditional or innovative methods, is key to shaping tomorrow’s workforce. 4. Personalizing learning content and experience. Abstract. Artificial intelligence (<b>AI</b>) is a field of study that combines the applications of machine learning, algorithm productions, and natural language processing. Applications <b>of AI</b> transform the tools of <b>education</b>. <b>AI</b> has a variety of <b>educational</b> applications, such as personalized learning platforms to promote students’ learning ... The present discussion examines the transformative <b>impact</b> of Artificial Intelligence (<b>AI</b>) in <b>educational</b> settings, focusing on the necessity for <b>AI</b> literacy, prompt engineering proficiency, and enhanced critical thinking skills. The introduction <b>of AI</b> into <b>education</b> marks a significant departure from conventional teaching methods, offering personalized learning and support for diverse ... Last update:20 April 2023. The transformative power of Artificial Intelligence (<b>AI</b>) cuts across all economic and social sectors, including <b>education</b>. “<b>Education</b> will be profoundly transformed by <b>AI</b>,” says UNESCO Director-General Audrey Azoulay. “Teaching tools, ways of learning, access to knowledge, and teacher training will be ...'"
      ]
     },
     "execution_count": 6,
     "metadata": {},
     "output_type": "execute_result"
    }
   ],
   "source": [
    "search.run(\"the effect of ai in an educational environment\")"
   ]
  }
 ],
 "metadata": {
  "kernelspec": {
   "display_name": "AutoGPT_Project",
   "language": "python",
   "name": "python3"
  },
  "language_info": {
   "codemirror_mode": {
    "name": "ipython",
    "version": 3
   },
   "file_extension": ".py",
   "mimetype": "text/x-python",
   "name": "python",
   "nbconvert_exporter": "python",
   "pygments_lexer": "ipython3",
   "version": "3.11.9"
  }
 },
 "nbformat": 4,
 "nbformat_minor": 2
}
