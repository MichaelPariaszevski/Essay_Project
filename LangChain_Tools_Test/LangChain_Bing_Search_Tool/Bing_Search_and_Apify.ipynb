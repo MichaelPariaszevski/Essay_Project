{
 "cells": [
  {
   "cell_type": "code",
   "execution_count": 1,
   "metadata": {},
   "outputs": [
    {
     "data": {
      "text/plain": [
       "True"
      ]
     },
     "execution_count": 1,
     "metadata": {},
     "output_type": "execute_result"
    }
   ],
   "source": [
    "from dotenv import load_dotenv, find_dotenv \n",
    "from langchain_community.utilities import BingSearchAPIWrapper \n",
    "from langchain_community.tools.bing_search import BingSearchResults \n",
    "import json\n",
    "\n",
    "load_dotenv(find_dotenv(), override = True)"
   ]
  },
  {
   "cell_type": "code",
   "execution_count": 2,
   "metadata": {},
   "outputs": [],
   "source": [
    "search = BingSearchAPIWrapper()\n",
    "\n",
    "tool = BingSearchResults(api_wrapper = search)  "
   ]
  },
  {
   "cell_type": "code",
   "execution_count": 3,
   "metadata": {},
   "outputs": [],
   "source": [
    "def Bing_Search(query: str):\n",
    "    response = tool.invoke(query)  \n",
    "    response = json.loads(response.replace(\"'\", '\"')) \n",
    "    return response"
   ]
  },
  {
   "cell_type": "code",
   "execution_count": 4,
   "metadata": {},
   "outputs": [
    {
     "name": "stdout",
     "output_type": "stream",
     "text": [
      "[{'snippet': 'World Asia China <b>Shanghai</b> <b>Shanghai</b>. <b>Shanghai</b>, <b>Shanghai</b>, China <b>Weather</b> Forecast, with <b>current</b> conditions, wind, air quality, and what to expect for the next 3 days.', 'title': 'Shanghai, Shanghai, China Weather Forecast | AccuWeather', 'link': 'https://www.accuweather.com/en/cn/shanghai/106577/weather-forecast/106577'}, {'snippet': '<b>Current weather</b> <b>in Shanghai</b>, <b>Shanghai</b>, China. Check <b>current</b> conditions <b>in Shanghai</b>, <b>Shanghai</b>, China with radar, hourly, and more.', 'title': 'Shanghai, Shanghai, China Current Weather | AccuWeather', 'link': 'https://www.accuweather.com/en/cn/shanghai/106577/current-weather/106577'}, {'snippet': '<b>Current</b> <b>weather</b> <b>in Shanghai</b> and forecast for today, tomorrow, and next 14 days', 'title': 'Weather in Shanghai, Shanghai Municipality, China - timeanddate.com', 'link': 'https://www.timeanddate.com/weather/china/shanghai'}, {'snippet': 'Observed at 12:00, Sunday 15 September <b>BBC Weather</b> in association with MeteoGroup, external All times are China Standard Time (Asia/<b>Shanghai</b>, GMT+8) unless otherwise stated ...', 'title': 'Shanghai - BBC Weather', 'link': 'https://www.bbc.com/weather/1796236'}]\n",
      "https://www.accuweather.com/en/cn/shanghai/106577/weather-forecast/106577\n"
     ]
    }
   ],
   "source": [
    "output = Bing_Search(\"What is the current weather in Shanghai?\") \n",
    "\n",
    "print(output)\n",
    "print(output[0][\"link\"])"
   ]
  },
  {
   "cell_type": "code",
   "execution_count": 4,
   "metadata": {},
   "outputs": [],
   "source": [
    "def Bing_Search_Link_Wrapper(func): \n",
    "    def wrapped_function(query): \n",
    "        response = func(query) \n",
    "        list_of_links = [response[i][\"link\"] for i in range(len(response))]\n",
    "        return list_of_links\n",
    "    return wrapped_function"
   ]
  },
  {
   "cell_type": "code",
   "execution_count": 5,
   "metadata": {},
   "outputs": [],
   "source": [
    "@Bing_Search_Link_Wrapper\n",
    "def Bing_Search_Wrapped(query: str): \n",
    "    response = tool.invoke(query)  \n",
    "    response = json.loads(response.replace(\"'\", '\"')) \n",
    "    return response"
   ]
  },
  {
   "cell_type": "code",
   "execution_count": 7,
   "metadata": {},
   "outputs": [],
   "source": [
    "output_2 = Bing_Search_Wrapped(query = \"What is the current weather in Shanghai?\")"
   ]
  },
  {
   "cell_type": "code",
   "execution_count": 8,
   "metadata": {},
   "outputs": [
    {
     "name": "stdout",
     "output_type": "stream",
     "text": [
      "['https://www.accuweather.com/en/cn/shanghai/106577/weather-forecast/106577', 'https://www.accuweather.com/en/cn/shanghai/106577/current-weather/106577', 'https://www.timeanddate.com/weather/china/shanghai', 'https://www.bbc.com/weather/1796236']\n",
      "--------------------------------------------------\n",
      "https://www.accuweather.com/en/cn/shanghai/106577/weather-forecast/106577\n",
      "--------------------------------------------------\n",
      "https://www.accuweather.com/en/cn/shanghai/106577/current-weather/106577\n",
      "--------------------------------------------------\n",
      "https://www.timeanddate.com/weather/china/shanghai\n",
      "--------------------------------------------------\n",
      "https://www.bbc.com/weather/1796236\n"
     ]
    }
   ],
   "source": [
    "print(output_2)\n",
    "for i in output_2: \n",
    "    print(\"-\" * 50) \n",
    "    print(i) "
   ]
  },
  {
   "cell_type": "markdown",
   "metadata": {},
   "source": [
    "### Integrating Apify with Bing Search"
   ]
  },
  {
   "cell_type": "code",
   "execution_count": 6,
   "metadata": {},
   "outputs": [
    {
     "data": {
      "text/plain": [
       "True"
      ]
     },
     "execution_count": 6,
     "metadata": {},
     "output_type": "execute_result"
    }
   ],
   "source": [
    "from langchain.indexes import VectorstoreIndexCreator \n",
    "from langchain_community.utilities import ApifyWrapper \n",
    "from langchain_core.documents import Document\n",
    "from langchain_community.embeddings import OpenAIEmbeddings\n",
    "from langchain_openai import ChatOpenAI\n",
    "\n",
    "from dotenv import load_dotenv, find_dotenv\n",
    "\n",
    "load_dotenv(find_dotenv(), override = True)"
   ]
  },
  {
   "cell_type": "code",
   "execution_count": 7,
   "metadata": {},
   "outputs": [],
   "source": [
    "llm = ChatOpenAI(model_name = \"gpt-4o-mini\", temperature = 0)"
   ]
  },
  {
   "cell_type": "code",
   "execution_count": 8,
   "metadata": {},
   "outputs": [
    {
     "name": "stderr",
     "output_type": "stream",
     "text": [
      "/tmp/ipykernel_566561/3508749125.py:3: LangChainDeprecationWarning: The class `OpenAIEmbeddings` was deprecated in LangChain 0.0.9 and will be removed in 1.0. An updated version of the class exists in the langchain-openai package and should be used instead. To use it run `pip install -U langchain-openai` and import as `from langchain_openai import OpenAIEmbeddings`.\n",
      "  embedding = OpenAIEmbeddings(model = \"text-embedding-3-small\")\n"
     ]
    }
   ],
   "source": [
    "apify = ApifyWrapper()\n",
    "\n",
    "embedding = OpenAIEmbeddings(model = \"text-embedding-3-small\")"
   ]
  },
  {
   "cell_type": "code",
   "execution_count": 9,
   "metadata": {},
   "outputs": [],
   "source": [
    "def apify_search(link: list, query: str): \n",
    "    loader = apify.call_actor(\n",
    "        actor_id = \"apify/website-content-crawler\", \n",
    "        run_input = {\"startUrls\": [{\"url\": link[0]}]}, \n",
    "        dataset_mapping_function = lambda item: Document(\n",
    "            page_content = item[\"text\"] or \"\", metadata = {\"source\": item[\"url\"]}\n",
    "        )\n",
    "    )\n",
    "    \n",
    "    index = VectorstoreIndexCreator(embedding = embedding).from_loaders([loader]) \n",
    "    \n",
    "    output = index.query_with_sources(llm = llm, question = query)\n",
    "    \n",
    "    return output"
   ]
  },
  {
   "cell_type": "code",
   "execution_count": 10,
   "metadata": {},
   "outputs": [],
   "source": [
    "def Apify_Search_Wrapper(func_2): \n",
    "    def wrapper_function(query: str): \n",
    "        link = func_2(query)[0]\n",
    "        loader = apify.call_actor(\n",
    "            actor_id = \"apify/website-content-crawler\", \n",
    "            run_input = {\"startUrls\": [{\"url\": link}]}, \n",
    "            dataset_mapping_function = lambda item: Document(\n",
    "                page_content = item[\"text\"] or \"\", metadata = {\"source\": item[\"url\"]}\n",
    "            )\n",
    "        )\n",
    "        \n",
    "        index = VectorstoreIndexCreator(embedding = embedding).from_loaders([loader]) \n",
    "        \n",
    "        output = index.query_with_sources(llm = llm, question = query)\n",
    "        \n",
    "        return output\n",
    "    return wrapper_function"
   ]
  },
  {
   "cell_type": "code",
   "execution_count": 11,
   "metadata": {},
   "outputs": [],
   "source": [
    "def Bing_Search_Link_Wrapper(func): \n",
    "    def wrapped_function(query): \n",
    "        response = func(query) \n",
    "        list_of_links = [response[i][\"link\"] for i in range(len(response))]\n",
    "        return list_of_links\n",
    "    return wrapped_function"
   ]
  },
  {
   "cell_type": "code",
   "execution_count": 12,
   "metadata": {},
   "outputs": [],
   "source": [
    "@Apify_Search_Wrapper\n",
    "@Bing_Search_Link_Wrapper\n",
    "def Bing_Search_Wrapped_Twice(query: str): \n",
    "    response = tool.invoke(query)  \n",
    "    response = json.loads(response.replace(\"'\", '\"')) \n",
    "    return response"
   ]
  },
  {
   "cell_type": "code",
   "execution_count": 21,
   "metadata": {},
   "outputs": [
    {
     "name": "stderr",
     "output_type": "stream",
     "text": [
      "/home/mpariaszevski/anaconda3/envs/AutoGPT_Project/lib/python3.11/site-packages/langchain/indexes/vectorstore.py:128: UserWarning: Using InMemoryVectorStore as the default vectorstore.This memory store won't persist data. You should explicitlyspecify a vectorstore when using VectorstoreIndexCreator\n",
      "  warnings.warn(\n"
     ]
    }
   ],
   "source": [
    "output_wrapped_twice = Bing_Search_Wrapped_Twice(query = \"What is the score of the Spurs vs Arsenal premier league game on September 15, 2024?\")"
   ]
  },
  {
   "cell_type": "code",
   "execution_count": 22,
   "metadata": {},
   "outputs": [
    {
     "name": "stdout",
     "output_type": "stream",
     "text": [
      "{'question': 'What is the score of the Spurs vs Arsenal premier league game on September 15, 2024?', 'answer': 'Arsenal won the match against Tottenham with a final score of 1-0 on September 15, 2024.  \\n', 'sources': 'https://www.espn.com/football/match/_/gameId/704317/arsenal-tottenham-hotspur'}\n"
     ]
    }
   ],
   "source": [
    "print(output_wrapped_twice)"
   ]
  },
  {
   "cell_type": "code",
   "execution_count": 13,
   "metadata": {},
   "outputs": [
    {
     "name": "stderr",
     "output_type": "stream",
     "text": [
      "/home/mpariaszevski/anaconda3/envs/AutoGPT_Project/lib/python3.11/site-packages/langchain/indexes/vectorstore.py:128: UserWarning: Using InMemoryVectorStore as the default vectorstore.This memory store won't persist data. You should explicitlyspecify a vectorstore when using VectorstoreIndexCreator\n",
      "  warnings.warn(\n"
     ]
    }
   ],
   "source": [
    "output_wrapped_twice_2 = Bing_Search_Wrapped_Twice(query = \"What were the opinions from fans of the Arsenal and Spurs game from September 15, 2024?\")"
   ]
  },
  {
   "cell_type": "code",
   "execution_count": 14,
   "metadata": {},
   "outputs": [
    {
     "name": "stdout",
     "output_type": "stream",
     "text": [
      "I don't know.  \n",
      "\n"
     ]
    }
   ],
   "source": [
    "print(output_wrapped_twice_2[\"answer\"])"
   ]
  }
 ],
 "metadata": {
  "kernelspec": {
   "display_name": "AutoGPT_Project",
   "language": "python",
   "name": "python3"
  },
  "language_info": {
   "codemirror_mode": {
    "name": "ipython",
    "version": 3
   },
   "file_extension": ".py",
   "mimetype": "text/x-python",
   "name": "python",
   "nbconvert_exporter": "python",
   "pygments_lexer": "ipython3",
   "version": "3.11.9"
  }
 },
 "nbformat": 4,
 "nbformat_minor": 2
}
