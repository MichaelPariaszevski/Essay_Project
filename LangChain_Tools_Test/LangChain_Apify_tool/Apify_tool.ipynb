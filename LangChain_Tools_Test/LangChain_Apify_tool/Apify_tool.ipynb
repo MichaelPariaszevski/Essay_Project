{
 "cells": [
  {
   "cell_type": "code",
   "execution_count": 31,
   "metadata": {},
   "outputs": [],
   "source": [
    "from langchain.indexes import VectorstoreIndexCreator \n",
    "from langchain_community.utilities import ApifyWrapper \n",
    "from langchain_core.documents import Document\n",
    "from langchain_community.embeddings import OpenAIEmbeddings\n",
    "from langchain_openai import ChatOpenAI"
   ]
  },
  {
   "cell_type": "code",
   "execution_count": 32,
   "metadata": {},
   "outputs": [],
   "source": [
    "llm = ChatOpenAI(model_name = \"gpt-4o-mini\", temperature = 0)"
   ]
  },
  {
   "cell_type": "code",
   "execution_count": 33,
   "metadata": {},
   "outputs": [
    {
     "data": {
      "text/plain": [
       "True"
      ]
     },
     "execution_count": 33,
     "metadata": {},
     "output_type": "execute_result"
    }
   ],
   "source": [
    "from dotenv import load_dotenv, find_dotenv\n",
    "\n",
    "load_dotenv(find_dotenv(), override = True)"
   ]
  },
  {
   "cell_type": "code",
   "execution_count": 34,
   "metadata": {},
   "outputs": [],
   "source": [
    "apify = ApifyWrapper()"
   ]
  },
  {
   "cell_type": "code",
   "execution_count": 35,
   "metadata": {},
   "outputs": [],
   "source": [
    "embedding = OpenAIEmbeddings(model = \"text-embedding-3-small\")"
   ]
  },
  {
   "cell_type": "code",
   "execution_count": 37,
   "metadata": {},
   "outputs": [],
   "source": [
    "loader = apify.call_actor(\n",
    "    actor_id = \"apify/website-content-crawler\", \n",
    "    run_input = {\"startUrls\": [{\"url\": \"https://www.weforum.org/agenda/2024/05/ways-ai-can-benefit-education/\"}]}, # Example URL used: https://python.langchain.com/v0.2/docs/introduction/\n",
    "    dataset_mapping_function = lambda item: Document(\n",
    "        page_content = item[\"text\"] or \"\", metadata = {\"source\": item[\"url\"]}\n",
    "    )\n",
    ")"
   ]
  },
  {
   "cell_type": "code",
   "execution_count": 38,
   "metadata": {},
   "outputs": [
    {
     "name": "stderr",
     "output_type": "stream",
     "text": [
      "/home/mpariaszevski/anaconda3/envs/AutoGPT_Project/lib/python3.11/site-packages/langchain/indexes/vectorstore.py:127: UserWarning: Using InMemoryVectorStore as the default vectorstore.This memory store won't persist data. You should explicitlyspecify a vectorstore when using VectorstoreIndexCreator\n",
      "  warnings.warn(\n"
     ]
    }
   ],
   "source": [
    "# Here, the embedding argument for VectorstoreIndexCreator is needed\n",
    "\n",
    "index = VectorstoreIndexCreator(embedding = embedding).from_loaders([loader])"
   ]
  },
  {
   "cell_type": "code",
   "execution_count": 39,
   "metadata": {},
   "outputs": [],
   "source": [
    "query = \"What is the affect of AI on education?\" \n",
    "\n",
    "output = index.query_with_sources(llm = llm, question = query)"
   ]
  },
  {
   "cell_type": "code",
   "execution_count": 40,
   "metadata": {},
   "outputs": [
    {
     "name": "stdout",
     "output_type": "stream",
     "text": [
      "{'question': 'What is the affect of AI on education?', 'answer': 'AI has the potential to significantly transform education by improving student assessment and guidance, fostering digital literacy, critical thinking, creativity, and problem-solving skills. It offers a more personalized approach to teaching and learning, tailored to individual student needs and preferences. AI can also enhance educational outcomes by making learning more inclusive, particularly for students with disabilities, through the creation of adaptable digital materials. Furthermore, AI can help manage continuous assessments, provide targeted feedback, and enable teachers to focus on more strategic aspects of education, leading to improved learning outcomes.\\n\\n', 'sources': ''}\n",
      "##################################################\n",
      "AI has the potential to significantly transform education by improving student assessment and guidance, fostering digital literacy, critical thinking, creativity, and problem-solving skills. It offers a more personalized approach to teaching and learning, tailored to individual student needs and preferences. AI can also enhance educational outcomes by making learning more inclusive, particularly for students with disabilities, through the creation of adaptable digital materials. Furthermore, AI can help manage continuous assessments, provide targeted feedback, and enable teachers to focus on more strategic aspects of education, leading to improved learning outcomes.\n",
      "\n",
      "\n",
      "\n"
     ]
    }
   ],
   "source": [
    "print(output)\n",
    "print(\"#\" * 50)\n",
    "print(output[\"answer\"]) \n",
    "print(output[\"sources\"])"
   ]
  }
 ],
 "metadata": {
  "kernelspec": {
   "display_name": "AutoGPT_Project",
   "language": "python",
   "name": "python3"
  },
  "language_info": {
   "codemirror_mode": {
    "name": "ipython",
    "version": 3
   },
   "file_extension": ".py",
   "mimetype": "text/x-python",
   "name": "python",
   "nbconvert_exporter": "python",
   "pygments_lexer": "ipython3",
   "version": "3.11.9"
  }
 },
 "nbformat": 4,
 "nbformat_minor": 2
}
