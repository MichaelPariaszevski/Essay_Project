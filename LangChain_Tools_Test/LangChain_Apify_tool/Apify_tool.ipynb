{
 "cells": [
  {
   "cell_type": "code",
   "execution_count": 21,
   "metadata": {},
   "outputs": [],
   "source": [
    "from langchain.indexes import VectorstoreIndexCreator \n",
    "from langchain_community.utilities import ApifyWrapper \n",
    "from langchain_core.documents import Document\n",
    "from langchain_community.embeddings import OpenAIEmbeddings\n",
    "from langchain_openai import ChatOpenAI"
   ]
  },
  {
   "cell_type": "code",
   "execution_count": 22,
   "metadata": {},
   "outputs": [],
   "source": [
    "llm = ChatOpenAI(model_name = \"gpt-4o-mini\", temperature = 0)"
   ]
  },
  {
   "cell_type": "code",
   "execution_count": 3,
   "metadata": {},
   "outputs": [
    {
     "data": {
      "text/plain": [
       "True"
      ]
     },
     "execution_count": 3,
     "metadata": {},
     "output_type": "execute_result"
    }
   ],
   "source": [
    "from dotenv import load_dotenv, find_dotenv\n",
    "\n",
    "load_dotenv(find_dotenv(), override = True)"
   ]
  },
  {
   "cell_type": "code",
   "execution_count": 4,
   "metadata": {},
   "outputs": [],
   "source": [
    "apify = ApifyWrapper()"
   ]
  },
  {
   "cell_type": "code",
   "execution_count": 16,
   "metadata": {},
   "outputs": [],
   "source": [
    "embedding = OpenAIEmbeddings(model = \"text-embedding-3-small\")"
   ]
  },
  {
   "cell_type": "code",
   "execution_count": 26,
   "metadata": {},
   "outputs": [],
   "source": [
    "loader = apify.call_actor(\n",
    "    actor_id = \"apify/website-content-crawler\", \n",
    "    run_input = {\"startUrls\": [{\"url\": \"https://python.langchain.com/v0.2/docs/introduction/\"}]}, \n",
    "    dataset_mapping_function = lambda item: Document(\n",
    "        page_content = item[\"text\"] or \"\", metadata = {\"source\": item[\"url\"]}\n",
    "    )\n",
    ")"
   ]
  },
  {
   "cell_type": "code",
   "execution_count": 27,
   "metadata": {},
   "outputs": [
    {
     "name": "stderr",
     "output_type": "stream",
     "text": [
      "/home/mpariaszevski/anaconda3/envs/AutoGPT_Project/lib/python3.11/site-packages/langchain/indexes/vectorstore.py:127: UserWarning: Using InMemoryVectorStore as the default vectorstore.This memory store won't persist data. You should explicitlyspecify a vectorstore when using VectorstoreIndexCreator\n",
      "  warnings.warn(\n"
     ]
    }
   ],
   "source": [
    "# Here, the embedding argument for VectorstoreIndexCreator is needed\n",
    "\n",
    "index = VectorstoreIndexCreator(embedding = embedding).from_loaders([loader])"
   ]
  },
  {
   "cell_type": "code",
   "execution_count": 28,
   "metadata": {},
   "outputs": [],
   "source": [
    "query = \"What is LangChain?\" \n",
    "\n",
    "output = index.query_with_sources(llm = llm, question = query)"
   ]
  },
  {
   "cell_type": "code",
   "execution_count": 30,
   "metadata": {},
   "outputs": [
    {
     "name": "stdout",
     "output_type": "stream",
     "text": [
      "{'question': 'What is LangChain?', 'answer': 'LangChain is a framework for developing applications powered by large language models (LLMs). It simplifies every stage of the LLM application lifecycle, including development, productionization, and deployment. The framework consists of various open-source libraries, such as langchain-core, langchain-community, and LangGraph, which help in building robust applications and deploying them as REST APIs. LangChain also provides tools for debugging, testing, and monitoring LLM applications.\\n\\n', 'sources': 'https://python.langchain.com/v0.2/docs/introduction/'}\n",
      "##################################################\n",
      "LangChain is a framework for developing applications powered by large language models (LLMs). It simplifies every stage of the LLM application lifecycle, including development, productionization, and deployment. The framework consists of various open-source libraries, such as langchain-core, langchain-community, and LangGraph, which help in building robust applications and deploying them as REST APIs. LangChain also provides tools for debugging, testing, and monitoring LLM applications.\n",
      "\n",
      "\n",
      "https://python.langchain.com/v0.2/docs/introduction/\n"
     ]
    }
   ],
   "source": [
    "print(output)\n",
    "print(\"#\" * 50)\n",
    "print(output[\"answer\"]) \n",
    "print(output[\"sources\"])"
   ]
  }
 ],
 "metadata": {
  "kernelspec": {
   "display_name": "AutoGPT_Project",
   "language": "python",
   "name": "python3"
  },
  "language_info": {
   "codemirror_mode": {
    "name": "ipython",
    "version": 3
   },
   "file_extension": ".py",
   "mimetype": "text/x-python",
   "name": "python",
   "nbconvert_exporter": "python",
   "pygments_lexer": "ipython3",
   "version": "3.11.9"
  }
 },
 "nbformat": 4,
 "nbformat_minor": 2
}
