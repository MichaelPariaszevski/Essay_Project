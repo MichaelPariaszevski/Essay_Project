{
 "cells": [
  {
   "cell_type": "markdown",
   "metadata": {},
   "source": [
    "### Use AutoGPT_Project conda environment"
   ]
  },
  {
   "cell_type": "code",
   "execution_count": null,
   "metadata": {},
   "outputs": [],
   "source": [
    "from dotenv import load_dotenv, find_dotenv \n",
    "\n",
    "load_dotenv(find_dotenv(), override = True) "
   ]
  },
  {
   "cell_type": "code",
   "execution_count": 2,
   "metadata": {},
   "outputs": [],
   "source": [
    "from langchain import hub \n",
    "from langchain_openai import ChatOpenAI \n",
    "from langchain.agents import create_react_agent, AgentExecutor \n",
    "\n",
    "from langchain_experimental.tools import PythonREPLTool, PythonAstREPLTool \n",
    "from langchain_experimental.agents.agent_toolkits import create_csv_agent \n",
    "\n",
    "from langchain.tools import Tool"
   ]
  },
  {
   "cell_type": "code",
   "execution_count": 3,
   "metadata": {},
   "outputs": [],
   "source": [
    "def code_interpreter(query): \n",
    "    print(\"Starting...\")\n",
    "    llm = ChatOpenAI(model_name = \"gpt-4o-mini\", temperature = 0) \n",
    "    \n",
    "    instructions = \"\"\"You are an agent designed to write and execute python code to answer questions.\n",
    "    You have access to a python REPL, which you can use to execute python code.\n",
    "    If you get an error, debug your code and try again.\n",
    "    Only use the output of your code to answer the question. \n",
    "    You might know the answer without running any code, but you should still run the code to get the answer.\n",
    "    If it does not seem like you can write code to answer the question, just return \"I don't know\" as the answer.\"\"\"\n",
    "    \n",
    "    base_prompt = hub.pull(\"langchain-ai/react-agent-template\") \n",
    "    \n",
    "    prompt = base_prompt.partial(instructions = instructions) \n",
    "    \n",
    "    tools = [PythonREPLTool(), PythonAstREPLTool()] \n",
    "    \n",
    "    agent = create_react_agent(llm = llm, prompt = prompt, tools = tools) \n",
    "    \n",
    "    python_agent_executor = AgentExecutor(\n",
    "        agent = agent, \n",
    "        tools = tools, \n",
    "        verbose = True, \n",
    "        handle_parsing_errors = True\n",
    "    )\n",
    "    \n",
    "    csv_agent_executor: AgentExecutor = create_csv_agent(\n",
    "        llm = llm, \n",
    "        path = \"./episode_info.csv\", \n",
    "        verbose = True, \n",
    "        allow_dangerous_code = True, \n",
    "        )\n",
    "    \n",
    "    def python_agent_executor_wrapper(original_prompt: str) -> dict[str, any]: \n",
    "        return python_agent_executor.invoke(input = {\"input\": original_prompt})\n",
    "    \n",
    "    tools_for_router = [\n",
    "        Tool(\n",
    "            name = \"Python Agent\", \n",
    "            func = python_agent_executor_wrapper, \n",
    "            description = \"\"\"Useful when you need to transform natural language to python and execute python code, \n",
    "                           returning thr results of the code execution,\n",
    "                           DO NOT ACCEPT CODE AS INPUT\"\"\", \n",
    "        ), \n",
    "        Tool( \n",
    "             name = \"CSV Agent\", \n",
    "             func = csv_agent_executor.invoke, \n",
    "             description = \"\"\"Useful when you need to answer questions over episode_info.csv, \n",
    "                           takes as input the entire question and returns the answer after running pandas calculations\"\"\")\n",
    "    ]\n",
    "    \n",
    "    router_prompt = base_prompt.partial(instructions = \"Output only natural language, not code\") \n",
    "    \n",
    "    router_agent = create_react_agent(\n",
    "        prompt = router_prompt, \n",
    "        llm = ChatOpenAI(model_name = \"gpt-4o-mini\", temperature = 0), \n",
    "        tools = tools_for_router\n",
    "    )\n",
    "    \n",
    "    router_agent_executor = AgentExecutor(\n",
    "        agent = router_agent, \n",
    "        tools = tools_for_router, \n",
    "        verbose = True, \n",
    "        handle_parsing_errors = True\n",
    "    )\n",
    "    \n",
    "    router_response = router_agent_executor.invoke(input = {\"input\": query}) \n",
    "    \n",
    "    return router_response"
   ]
  },
  {
   "cell_type": "code",
   "execution_count": null,
   "metadata": {},
   "outputs": [],
   "source": [
    "output_1 = code_interpreter(query = \"Which season has the most episodes?\") \n",
    "\n",
    "print(output_1)"
   ]
  },
  {
   "cell_type": "code",
   "execution_count": null,
   "metadata": {},
   "outputs": [],
   "source": [
    "output_2  = code_interpreter(query = \"Write and execute python code to print 'Hello World'\") \n",
    "\n",
    "print(output_2[\"output\"])"
   ]
  }
 ],
 "metadata": {
  "kernelspec": {
   "display_name": "AutoGPT_Project",
   "language": "python",
   "name": "python3"
  },
  "language_info": {
   "codemirror_mode": {
    "name": "ipython",
    "version": 3
   },
   "file_extension": ".py",
   "mimetype": "text/x-python",
   "name": "python",
   "nbconvert_exporter": "python",
   "pygments_lexer": "ipython3",
   "version": "3.11.9"
  }
 },
 "nbformat": 4,
 "nbformat_minor": 2
}
